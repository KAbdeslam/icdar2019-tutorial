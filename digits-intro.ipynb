{
 "cells": [
  {
   "cell_type": "code",
   "execution_count": 1,
   "metadata": {
    "slideshow": {
     "slide_type": "skip"
    }
   },
   "outputs": [
    {
     "name": "stdout",
     "output_type": "stream",
     "text": [
      "Populating the interactive namespace from numpy and matplotlib\n"
     ]
    }
   ],
   "source": [
    "%pylab inline"
   ]
  },
  {
   "cell_type": "code",
   "execution_count": 2,
   "metadata": {
    "slideshow": {
     "slide_type": "skip"
    }
   },
   "outputs": [
    {
     "name": "stdout",
     "output_type": "stream",
     "text": [
      "============================================================\n",
      "date : Thu Sep 19 04:17:31 UTC 2019\n",
      "hostname : tmbgpu\n",
      "whoami : tmb\n",
      "pwd : /home/tmb/exp/icdar2019-text\n",
      "============================================================\n",
      "\n"
     ]
    }
   ],
   "source": [
    "exec(open(\"startup.py\").read())"
   ]
  },
  {
   "cell_type": "code",
   "execution_count": 3,
   "metadata": {
    "slideshow": {
     "slide_type": "skip"
    }
   },
   "outputs": [],
   "source": [
    "from webdataset import WebDataset"
   ]
  },
  {
   "cell_type": "markdown",
   "metadata": {
    "slideshow": {
     "slide_type": "slide"
    }
   },
   "source": [
    "# Datasets"
   ]
  },
  {
   "cell_type": "code",
   "execution_count": 4,
   "metadata": {
    "slideshow": {
     "slide_type": "slide"
    }
   },
   "outputs": [
    {
     "data": {
      "text/plain": [
       "[1, 2, 10]"
      ]
     },
     "execution_count": 4,
     "metadata": {},
     "output_type": "execute_result"
    }
   ],
   "source": [
    "def encode_str(s): return [ord(c)-ord(\"0\")+1 for c in s]\n",
    "def decode_str(l): return \"\".join([chr(k+ord(\"0\")-1) for k in l])\n",
    "\n",
    "encode_str(\"019\")"
   ]
  },
  {
   "cell_type": "markdown",
   "metadata": {},
   "source": [
    "- for OCR, ground truth comes as text\n",
    "- we need to encode/decode strings\n",
    "- class 0 is reserved for \"no class\" or \"no output\""
   ]
  },
  {
   "cell_type": "code",
   "execution_count": 5,
   "metadata": {
    "scrolled": true,
    "slideshow": {
     "slide_type": "slide"
    }
   },
   "outputs": [
    {
     "name": "stdout",
     "output_type": "stream",
     "text": [
      "-r--r--r-- bigdata/bigdata 4941 2019-08-28 10:10 0.ppm\n",
      "-r--r--r-- bigdata/bigdata    3 2019-08-28 10:10 0.txt\n",
      "-r--r--r-- bigdata/bigdata 6286 2019-08-28 10:10 1.ppm\n",
      "-r--r--r-- bigdata/bigdata    4 2019-08-28 10:10 1.txt\n",
      "-r--r--r-- bigdata/bigdata 7630 2019-08-28 10:10 2.ppm\n",
      "tar: write error\n"
     ]
    }
   ],
   "source": [
    "!tar -tvf data/digits-training.tar | sed 5q"
   ]
  },
  {
   "cell_type": "markdown",
   "metadata": {},
   "source": [
    "- for large scale training, we need sequential record storage\n",
    "- a good format for this is simple POSIX tar archives\n",
    "- the archive contains file.ppm (image) and a corresponding file.txt (transcript)"
   ]
  },
  {
   "cell_type": "code",
   "execution_count": 6,
   "metadata": {
    "slideshow": {
     "slide_type": "slide"
    }
   },
   "outputs": [],
   "source": [
    "transforms = [\n",
    "    lambda x: (torch.tensor(x)[:48,:].float()/255.0).unsqueeze(0),\n",
    "    lambda s: torch.tensor(encode_str(s)).long()\n",
    "]\n",
    "\n",
    "training = WebDataset(\"data/digits-training.tar\", extensions=\"ppm txt\", decoder=\"l\", transforms=transforms)\n",
    "testing = WebDataset(\"data/digits-testing.tar\", extensions=\"ppm txt\", decoder=\"l\", transforms=transforms)"
   ]
  },
  {
   "cell_type": "markdown",
   "metadata": {},
   "source": [
    "- we can read tar files with `WebDataset`\n",
    "- `WebDataset` is an implementation of the PyTorch `Dataset` API\n",
    "- `WebDataset` can read from local storage, the web, and object stores"
   ]
  },
  {
   "cell_type": "code",
   "execution_count": 7,
   "metadata": {
    "slideshow": {
     "slide_type": "slide"
    }
   },
   "outputs": [
    {
     "name": "stdout",
     "output_type": "stream",
     "text": [
      "torch.Size([1, 48, 88])\n",
      "tensor([2, 1, 2])\n"
     ]
    },
    {
     "data": {
      "image/png": "[encoded data removed]",
      "text/plain": [
       "<Figure size 432x288 with 1 Axes>"
      ]
     },
     "metadata": {
      "needs_background": "light"
     },
     "output_type": "display_data"
    }
   ],
   "source": [
    "for image, transcript in training:\n",
    "    imshow(image[0])\n",
    "    print(image.size())\n",
    "    print(transcript)\n",
    "    break"
   ]
  },
  {
   "cell_type": "markdown",
   "metadata": {},
   "source": [
    "- `WebDataset` lets you iterate over a dataset\n",
    "- decoding etc. is specified by the `decoder=` and `transforms=` arguments\n",
    "- existing PyTorch loaders are easy to adapt"
   ]
  },
  {
   "cell_type": "markdown",
   "metadata": {
    "slideshow": {
     "slide_type": "slide"
    }
   },
   "source": [
    "# Collation and Data Loaders"
   ]
  },
  {
   "cell_type": "code",
   "execution_count": 8,
   "metadata": {
    "slideshow": {
     "slide_type": "slide"
    }
   },
   "outputs": [],
   "source": [
    "def collate4ocr(samples):\n",
    "    images, seqs = zip(*samples)\n",
    "    d, w, h = map(max, zip(*[x.shape for x in images]))\n",
    "    result = torch.zeros((len(images), d, w, h))\n",
    "    for i, im in enumerate(images):\n",
    "        d, w, h = im.shape\n",
    "        result[i, :d, :w, :h] = im\n",
    "    allwidths = torch.tensor([im.shape[2] for im in images]).long()\n",
    "    allseqs = torch.cat(seqs).long()\n",
    "    alllens = torch.tensor([len(s) for s in seqs]).long()\n",
    "    return (result, allseqs, allwidths, alllens)"
   ]
  },
  {
   "cell_type": "markdown",
   "metadata": {},
   "source": [
    "- a collation function takes a list of samples and returns a batch\n",
    "- for OCR, inputs are of variable size\n",
    "- to create a batch, we have to pack these different sized objects together\n",
    "- here, we do that by expanding the images to a common maximum"
   ]
  },
  {
   "cell_type": "code",
   "execution_count": 9,
   "metadata": {
    "slideshow": {
     "slide_type": "slide"
    }
   },
   "outputs": [
    {
     "name": "stdout",
     "output_type": "stream",
     "text": [
      "torch.Size([5, 1, 48, 136]) torch.Size([20]) torch.Size([5]) torch.Size([5])\n",
      "tensor(0.) tensor(0.0039) tensor(1) tensor(10)\n"
     ]
    },
    {
     "data": {
      "text/plain": [
       "<matplotlib.image.AxesImage at 0x7fa4dcbcada0>"
      ]
     },
     "execution_count": 9,
     "metadata": {},
     "output_type": "execute_result"
    },
    {
     "data": {
      "image/png": "[encoded data removed]",
      "text/plain": [
       "<Figure size 432x288 with 1 Axes>"
      ]
     },
     "metadata": {
      "needs_background": "light"
     },
     "output_type": "display_data"
    }
   ],
   "source": [
    "training_dl = DataLoader(training, batch_size=5, collate_fn=collate4ocr)\n",
    "\n",
    "for images, seqs, images_lens, seqs_lens in training_dl:\n",
    "    print(images.shape, seqs.shape, images_lens.shape, seqs_lens.shape)\n",
    "    print(images.min(), images.max(), seqs.min(), seqs.max())\n",
    "    break\n",
    "    \n",
    "imshow(images[0,0])"
   ]
  },
  {
   "cell_type": "markdown",
   "metadata": {},
   "source": [
    "- collation, batching, and preprocessing is taken care of by PyTorch `DataLoader`\n",
    "- it can handle some degree of multiprocessing to speed up data loading"
   ]
  },
  {
   "cell_type": "markdown",
   "metadata": {
    "slideshow": {
     "slide_type": "slide"
    }
   },
   "source": [
    "# Models"
   ]
  },
  {
   "cell_type": "code",
   "execution_count": 10,
   "metadata": {
    "slideshow": {
     "slide_type": "-"
    }
   },
   "outputs": [
    {
     "data": {
      "text/plain": [
       "Sequential(\n",
       "  (0): Input(BDHW->BDHW torch.float32 (0, 1) cpu [None, 1, 48, None])\n",
       "  (1): Conv2d(1, 100, kernel_size=(3, 3), stride=(1, 1), padding=(1, 1))\n",
       "  (2): BatchNorm2d(100, eps=1e-05, momentum=0.1, affine=True, track_running_stats=True)\n",
       "  (3): ReLU()\n",
       "  (4): Reshape(0, [1, 2], 3)\n",
       "  (5): BDL_LSTM(\n",
       "    (lstm): LSTM(4800, 100, bidirectional=True)\n",
       "  )\n",
       "  (6): Conv1d(200, 100, kernel_size=(3,), stride=(1,), padding=(1,))\n",
       "  (7): BatchNorm1d(100, eps=1e-05, momentum=0.1, affine=True, track_running_stats=True)\n",
       "  (8): ReLU()\n",
       "  (9): Conv1d(100, 11, kernel_size=(1,), stride=(1,))\n",
       ")"
      ]
     },
     "execution_count": 10,
     "metadata": {},
     "output_type": "execute_result"
    }
   ],
   "source": [
    "ninput = 48\n",
    "noutput = 11\n",
    "\n",
    "def make_model():\n",
    "    return nn.Sequential(\n",
    "        layers.Input(\"BDHW\", range=(0, 1), sizes=[None, 1, 48, None]),\n",
    "        flex.Conv2d(100, 3, padding=1),  # BDWH\n",
    "        flex.BatchNorm2d(),\n",
    "        nn.ReLU(),\n",
    "        layers.Reshape(0, [1, 2], 3), # BDL\n",
    "        flex.Lstm1(100, bidirectional=True), # BDL\n",
    "        flex.Conv1d(100, 3, padding=1),\n",
    "        flex.BatchNorm1d(),\n",
    "        nn.ReLU(),\n",
    "        flex.Conv1d(noutput, 1))\n",
    "\n",
    "model = make_model()\n",
    "flex.shape_inference(model, images.shape)\n",
    "model"
   ]
  },
  {
   "cell_type": "markdown",
   "metadata": {
    "slideshow": {
     "slide_type": "slide"
    }
   },
   "source": [
    "# Training"
   ]
  },
  {
   "cell_type": "code",
   "execution_count": 11,
   "metadata": {
    "slideshow": {
     "slide_type": "slide"
    }
   },
   "outputs": [
    {
     "data": {
      "text/plain": [
       "Sequential(\n",
       "  (0): Input(BDHW->BDHW torch.float32 (0, 1) cuda:0 [None, 1, 48, None])\n",
       "  (1): Conv2d(1, 100, kernel_size=(3, 3), stride=(1, 1), padding=(1, 1))\n",
       "  (2): BatchNorm2d(100, eps=1e-05, momentum=0.1, affine=True, track_running_stats=True)\n",
       "  (3): ReLU()\n",
       "  (4): Reshape(0, [1, 2], 3)\n",
       "  (5): BDL_LSTM(\n",
       "    (lstm): LSTM(4800, 100, bidirectional=True)\n",
       "  )\n",
       "  (6): Conv1d(200, 100, kernel_size=(3,), stride=(1,), padding=(1,))\n",
       "  (7): BatchNorm1d(100, eps=1e-05, momentum=0.1, affine=True, track_running_stats=True)\n",
       "  (8): ReLU()\n",
       "  (9): Conv1d(100, 11, kernel_size=(1,), stride=(1,))\n",
       ")"
      ]
     },
     "execution_count": 11,
     "metadata": {},
     "output_type": "execute_result"
    }
   ],
   "source": [
    "model.cuda()"
   ]
  },
  {
   "cell_type": "markdown",
   "metadata": {},
   "source": [
    "- we want to carry out computations on a GPU\n",
    "- `model.to(device)` will do this for us\n",
    "- note that the `Input` layer keeps track of the device\n",
    "- `Input` will automatically move input tensors to the right device\n",
    "- this makes our training loop independent of device"
   ]
  },
  {
   "cell_type": "code",
   "execution_count": 12,
   "metadata": {
    "slideshow": {
     "slide_type": "slide"
    }
   },
   "outputs": [
    {
     "data": {
      "text/plain": [
       "SGD (\n",
       "Parameter Group 0\n",
       "    dampening: 0\n",
       "    lr: 0.001\n",
       "    momentum: 0.9\n",
       "    nesterov: False\n",
       "    weight_decay: 0\n",
       ")"
      ]
     },
     "execution_count": 12,
     "metadata": {},
     "output_type": "execute_result"
    }
   ],
   "source": [
    "optimizer = optim.SGD(model.parameters(), lr=1e-3, momentum=0.9)\n",
    "optimizer"
   ]
  },
  {
   "cell_type": "markdown",
   "metadata": {},
   "source": [
    "- the optimizer handles updating the model weights based on the gradients\n",
    "- SGD is sufficient for most uses"
   ]
  },
  {
   "cell_type": "code",
   "execution_count": 13,
   "metadata": {
    "slideshow": {
     "slide_type": "slide"
    }
   },
   "outputs": [
    {
     "name": "stdout",
     "output_type": "stream",
     "text": [
      "torch.Size([5, 1, 48, 136]) torch.Size([20])\n",
      "tensor([ 88, 112, 136, 112, 112])\n",
      "tensor([3, 4, 5, 4, 4])\n"
     ]
    }
   ],
   "source": [
    "images, targets, ilens, tlens = next(iter(training_dl))\n",
    "print(images.size(), targets.size())\n",
    "print(ilens)\n",
    "print(tlens)"
   ]
  },
  {
   "cell_type": "markdown",
   "metadata": {},
   "source": [
    "- for sequence learning, input sequences are padded to the longest sequence\n",
    "- input lengths are passed as a separate tensor\n",
    "- target sequences are all packed into a single tensor\n",
    "- target sequence lengths are passed as a separate tensor"
   ]
  },
  {
   "cell_type": "code",
   "execution_count": 14,
   "metadata": {
    "slideshow": {
     "slide_type": "slide"
    }
   },
   "outputs": [],
   "source": [
    "optimizer.zero_grad()"
   ]
  },
  {
   "cell_type": "markdown",
   "metadata": {},
   "source": [
    "- before optimization starts, we need to clear the gradients"
   ]
  },
  {
   "cell_type": "code",
   "execution_count": 15,
   "metadata": {
    "slideshow": {
     "slide_type": "slide"
    }
   },
   "outputs": [
    {
     "name": "stdout",
     "output_type": "stream",
     "text": [
      "-1.6431182622909546 1.7368285655975342\n"
     ]
    },
    {
     "data": {
      "image/png": "[encoded data removed]",
      "text/plain": [
       "<Figure size 432x288 with 1 Axes>"
      ]
     },
     "metadata": {
      "needs_background": "light"
     },
     "output_type": "display_data"
    }
   ],
   "source": [
    "outputs = model.forward(images)\n",
    "imshow(outputs[0].detach().cpu().numpy())\n",
    "print(outputs.min().item(), outputs.max().item())"
   ]
  },
  {
   "cell_type": "markdown",
   "metadata": {},
   "source": [
    "- we can already perform a simple forward pass\n",
    "- this uses random weights and produces nothing really interesting"
   ]
  },
  {
   "cell_type": "code",
   "execution_count": 16,
   "metadata": {
    "slideshow": {
     "slide_type": "slide"
    }
   },
   "outputs": [
    {
     "name": "stdout",
     "output_type": "stream",
     "text": [
      "0.015139034949243069 0.3973962366580963\n"
     ]
    },
    {
     "data": {
      "image/png": "[encoded data removed]",
      "text/plain": [
       "<Figure size 432x288 with 1 Axes>"
      ]
     },
     "metadata": {
      "needs_background": "light"
     },
     "output_type": "display_data"
    }
   ],
   "source": [
    "outputs = model.forward(images)\n",
    "outputs = layers.reorder(outputs, \"BDL\", \"LBD\").cpu()\n",
    "l, b, d = outputs.shape\n",
    "probs = outputs.log_softmax(2)\n",
    "\n",
    "imshow(exp(probs[:,0,:].detach().cpu().numpy().T))\n",
    "print(probs.exp().min().item(), probs.exp().max().item())"
   ]
  },
  {
   "cell_type": "markdown",
   "metadata": {},
   "source": [
    "- we are going to compute the CTC Loss\n",
    "- output from the network is in BDL format (what a 1D convolution expects)\n",
    "- input to CTC loss is expected in LBD format and with log_softmax probabilities"
   ]
  },
  {
   "cell_type": "code",
   "execution_count": 17,
   "metadata": {
    "slideshow": {
     "slide_type": "slide"
    }
   },
   "outputs": [
    {
     "data": {
      "text/plain": [
       "CTCLoss()"
      ]
     },
     "execution_count": 17,
     "metadata": {},
     "output_type": "execute_result"
    }
   ],
   "source": [
    "ctc_loss = nn.CTCLoss()\n",
    "ctc_loss"
   ]
  },
  {
   "cell_type": "markdown",
   "metadata": {},
   "source": [
    "- for OCR, we need to align recognizer output with model output\n",
    "- in PyTorch, this is handled in a loss function\n",
    "- this somewhat obscures what is actually going on:\n",
    "  - forward/backward algorithm\n",
    "  - EM training"
   ]
  },
  {
   "cell_type": "code",
   "execution_count": 18,
   "metadata": {
    "slideshow": {
     "slide_type": "slide"
    }
   },
   "outputs": [
    {
     "name": "stdout",
     "output_type": "stream",
     "text": [
      "tensor(73.4546, grad_fn=<MeanBackward0>)\n"
     ]
    }
   ],
   "source": [
    "plens = torch.full((b,), l).long()\n",
    "loss = ctc_loss(probs, targets, plens, tlens)\n",
    "print(loss)"
   ]
  },
  {
   "cell_type": "markdown",
   "metadata": {},
   "source": [
    "- \"computing the CTC loss\"\n",
    "  - perform forward backward alignment\n",
    "  - treat aligned output as \"truth\"\n",
    "  - compute the difference between the aligned output and actual output\n",
    "  - use that as the delta to back-propagate"
   ]
  },
  {
   "cell_type": "code",
   "execution_count": 19,
   "metadata": {
    "slideshow": {
     "slide_type": "slide"
    }
   },
   "outputs": [],
   "source": [
    "loss.backward()\n",
    "nn.utils.clip_grad_norm_(model.parameters(), 10.0)\n",
    "optimizer.step()"
   ]
  },
  {
   "cell_type": "markdown",
   "metadata": {},
   "source": [
    "finishing up the training step:\n",
    "- propagate deltas backwards\n",
    "- clip the gradient (to help prevent divergence)\n",
    "- use the optimizer to update the weights"
   ]
  },
  {
   "cell_type": "markdown",
   "metadata": {
    "slideshow": {
     "slide_type": "slide"
    }
   },
   "source": [
    "# Full Training Loops"
   ]
  },
  {
   "cell_type": "code",
   "execution_count": 20,
   "metadata": {
    "slideshow": {
     "slide_type": "skip"
    }
   },
   "outputs": [],
   "source": [
    "import matplotlib.pyplot as plt\n",
    "from IPython import display\n",
    "    \n",
    "def update_plot(title, images, probs, losses):\n",
    "    plt.close(\"all\")\n",
    "    fig = plt.figure(figsize=(12, 3))\n",
    "    fig.clf()\n",
    "    for i in range(3): fig.add_subplot(1, 3, i+1)\n",
    "    ax1, ax2, ax3 = fig.get_axes()\n",
    "    ax1.set_title(str(title))\n",
    "    ax1.imshow(images[0,0].detach().cpu().numpy())\n",
    "    for i in range(probs.shape[2]):\n",
    "        ax2.plot(probs[:,0,i])\n",
    "    ax3.set_yscale(\"log\")\n",
    "    ax3.set_xscale(\"log\")\n",
    "    ax3.plot(ndi.gaussian_filter(losses, 10.0, mode=\"nearest\")[::10])\n",
    "    display.clear_output(wait=True)\n",
    "    display.display(fig)\n",
    "    \n",
    "def print_progress(title, images, probs, losses):\n",
    "    print(\"epoch {:2d}   #samples {:8d}   loss {:8.3f}\".format(\n",
    "        epoch, len(losses)*images.size(0), mean(losses[-100:])),\n",
    "        end=\"\\r\", flush=True, file=sys.stderr)"
   ]
  },
  {
   "cell_type": "code",
   "execution_count": 21,
   "metadata": {
    "slideshow": {
     "slide_type": "skip"
    }
   },
   "outputs": [],
   "source": [
    "losses = []"
   ]
  },
  {
   "cell_type": "code",
   "execution_count": 22,
   "metadata": {
    "code_folding": [],
    "slideshow": {
     "slide_type": "slide"
    }
   },
   "outputs": [
    {
     "data": {
      "image/png": "[encoded data removed]",
      "text/plain": [
       "<Figure size 864x216 with 3 Axes>"
      ]
     },
     "metadata": {
      "needs_background": "light"
     },
     "output_type": "display_data"
    }
   ],
   "source": [
    "# all the training steps put together\n",
    "for epoch in range(1):\n",
    "    i = 0\n",
    "    for images, targets, ilens, tlens in training_dl:\n",
    "        optimizer.zero_grad()\n",
    "        outputs = model.forward(images.cuda())\n",
    "        b, d, l = outputs.shape\n",
    "        probs = layers.reorder(outputs, \"BDL\", \"LBD\").cpu().log_softmax(2) # LBD\n",
    "        plens = torch.full((b,), l).long()\n",
    "        loss = ctc_loss(probs, targets, plens, tlens)\n",
    "        losses.append(loss.item())\n",
    "        loss.backward()\n",
    "        nn.utils.clip_grad_norm_(model.parameters(), 10.0)\n",
    "        optimizer.step()\n",
    "        if len(losses)%100==0:\n",
    "            update_plot(f\"{epoch} {len(losses)*len(images)}\", images, probs.detach().exp().numpy(), losses)\n",
    "display.clear_output(wait=True)"
   ]
  },
  {
   "cell_type": "code",
   "execution_count": 23,
   "metadata": {
    "slideshow": {
     "slide_type": "slide"
    }
   },
   "outputs": [
    {
     "data": {
      "image/png": "[encoded data removed]",
      "text/plain": [
       "<Figure size 720x720 with 10 Axes>"
      ]
     },
     "metadata": {
      "needs_background": "light"
     },
     "output_type": "display_data"
    }
   ],
   "source": [
    "# predictions from the trained model\n",
    "figsize(10, 10)\n",
    "for i in range(5):\n",
    "    subplot(5, 2, 2*i+1); imshow(images[i,0,:,:].detach().numpy())\n",
    "    subplot(5, 2, 2*i+2); imshow(outputs.softmax(1)[i].detach().cpu().numpy()) # BDL"
   ]
  },
  {
   "cell_type": "markdown",
   "metadata": {
    "slideshow": {
     "slide_type": "slide"
    }
   },
   "source": [
    "# Output Decoding"
   ]
  },
  {
   "cell_type": "code",
   "execution_count": 24,
   "metadata": {
    "slideshow": {
     "slide_type": "slide"
    }
   },
   "outputs": [
    {
     "data": {
      "text/plain": [
       "<matplotlib.image.AxesImage at 0x7fa4793fa320>"
      ]
     },
     "execution_count": 24,
     "metadata": {},
     "output_type": "execute_result"
    },
    {
     "data": {
      "image/png": "[encoded data removed]",
      "text/plain": [
       "<Figure size 720x720 with 1 Axes>"
      ]
     },
     "metadata": {
      "needs_background": "light"
     },
     "output_type": "display_data"
    }
   ],
   "source": [
    "temp = layers.reorder(outputs.detach().cpu(), \"BDL\", \"BLD\")\n",
    "probs = temp.softmax(2)[0].numpy()\n",
    "assert (abs(probs.sum(1)-1) < 1e-4).all()\n",
    "imshow(probs.T)"
   ]
  },
  {
   "cell_type": "markdown",
   "metadata": {},
   "source": [
    "- the model outputs a cost at each location\n",
    "- costs are transformed into posterior probabilities by `softmax`"
   ]
  },
  {
   "cell_type": "code",
   "execution_count": 25,
   "metadata": {
    "slideshow": {
     "slide_type": "slide"
    }
   },
   "outputs": [
    {
     "data": {
      "text/plain": [
       "<matplotlib.image.AxesImage at 0x7fa477f42eb8>"
      ]
     },
     "execution_count": 25,
     "metadata": {},
     "output_type": "execute_result"
    },
    {
     "data": {
      "image/png": "[encoded data removed]",
      "text/plain": [
       "<Figure size 720x720 with 1 Axes>"
      ]
     },
     "metadata": {
      "needs_background": "light"
     },
     "output_type": "display_data"
    }
   ],
   "source": [
    "probs = ndi.gaussian_filter(probs, (1.0, 0))\n",
    "probs /= probs.sum(1)[:,newaxis]\n",
    "imshow(probs.T)"
   ]
  },
  {
   "cell_type": "markdown",
   "metadata": {},
   "source": [
    "- LSTMs can \"stutter\" a little during output\n",
    "- we eliminate this by a little smoothing and renormalizing\n",
    "- might want to limit smoothing to probs[1:,:]"
   ]
  },
  {
   "cell_type": "code",
   "execution_count": 26,
   "metadata": {
    "slideshow": {
     "slide_type": "slide"
    }
   },
   "outputs": [
    {
     "data": {
      "text/plain": [
       "<matplotlib.image.AxesImage at 0x7fa477880908>"
      ]
     },
     "execution_count": 26,
     "metadata": {},
     "output_type": "execute_result"
    },
    {
     "data": {
      "image/png": "[encoded data removed]",
      "text/plain": [
       "<Figure size 720x720 with 1 Axes>"
      ]
     },
     "metadata": {
      "needs_background": "light"
     },
     "output_type": "display_data"
    }
   ],
   "source": [
    "labels, n = ndi.label(probs[:,0]<0.7)\n",
    "mask = tile(labels[:,newaxis], (1, probs.shape[1]))\n",
    "imshow(mask.T)"
   ]
  },
  {
   "cell_type": "markdown",
   "metadata": {},
   "source": [
    "- extract all the areas where there are characters detected and label them\n",
    "- this is the regions where class 0 has a probability of less than some threshold"
   ]
  },
  {
   "cell_type": "code",
   "execution_count": 27,
   "metadata": {
    "slideshow": {
     "slide_type": "slide"
    }
   },
   "outputs": [
    {
     "data": {
      "text/plain": [
       "[(9, 10), (42, 5), (58, 0), (81, 7), (114, 5)]"
      ]
     },
     "execution_count": 27,
     "metadata": {},
     "output_type": "execute_result"
    }
   ],
   "source": [
    "ndi.maximum_position(probs, mask, arange(1, amax(mask)+1))"
   ]
  },
  {
   "cell_type": "markdown",
   "metadata": {},
   "source": [
    "- `scipy.ndimage` has handy morphological operations on masked images\n",
    "- here: extract the maximum within each labeled region"
   ]
  },
  {
   "cell_type": "code",
   "execution_count": 28,
   "metadata": {
    "slideshow": {
     "slide_type": "skip"
    }
   },
   "outputs": [],
   "source": [
    "def simple_decode(probs, sigma=1.0, threshold=0.7, kind=None, full=False):\n",
    "    probs = asnp(probs)\n",
    "    assert (abs(probs.sum(1)-1) < 1e-4).all(), \\\n",
    "        \"input not normalized; did you apply .softmax()?\"\n",
    "    probs = ndi.gaussian_filter(probs, (sigma, 0))\n",
    "    probs /= probs.sum(1)[:,newaxis]\n",
    "    labels, n = ndi.label(probs[:,0]<threshold)\n",
    "    mask = tile(labels[:,newaxis], (1, probs.shape[1]))\n",
    "    mask[:,0] = 0\n",
    "    maxima = ndi.maximum_position(probs, mask, arange(1, amax(mask)+1))\n",
    "    if not full:\n",
    "        return [c for r, c in sorted(maxima)]\n",
    "    else:\n",
    "        return [(r, c, probs[r, c]) for r, c in sorted(maxima)]\n"
   ]
  },
  {
   "cell_type": "code",
   "execution_count": 29,
   "metadata": {
    "slideshow": {
     "slide_type": "slide"
    }
   },
   "outputs": [
    {
     "data": {
      "text/plain": [
       "[(9, 10, 0.6408016),\n",
       " (42, 5, 0.7605884),\n",
       " (57, 7, 0.6313493),\n",
       " (81, 7, 0.63215834),\n",
       " (114, 5, 0.69053006)]"
      ]
     },
     "execution_count": 29,
     "metadata": {},
     "output_type": "execute_result"
    }
   ],
   "source": [
    "simple_decode(temp.softmax(2)[0], full=True)"
   ]
  },
  {
   "cell_type": "markdown",
   "metadata": {},
   "source": [
    "- wrap all of that up into a small function for decoding"
   ]
  },
  {
   "cell_type": "code",
   "execution_count": 30,
   "metadata": {
    "slideshow": {
     "slide_type": "slide"
    }
   },
   "outputs": [
    {
     "data": {
      "text/plain": [
       "'94664'"
      ]
     },
     "execution_count": 30,
     "metadata": {},
     "output_type": "execute_result"
    }
   ],
   "source": [
    "decode_str(simple_decode(temp.softmax(2)[0]))"
   ]
  },
  {
   "cell_type": "markdown",
   "metadata": {
    "slideshow": {
     "slide_type": "slide"
    }
   },
   "source": [
    "## Other Choices for Decoding\n",
    "\n",
    "- beam search\n",
    "- finite state transducers and language models\n",
    "- seq2seq"
   ]
  },
  {
   "cell_type": "markdown",
   "metadata": {
    "slideshow": {
     "slide_type": "slide"
    }
   },
   "source": [
    "# End-to-End Recognition"
   ]
  },
  {
   "cell_type": "code",
   "execution_count": 31,
   "metadata": {
    "slideshow": {
     "slide_type": "-"
    }
   },
   "outputs": [
    {
     "data": {
      "image/png": "[encoded data removed]",
      "text/plain": [
       "<Figure size 576x216 with 5 Axes>"
      ]
     },
     "metadata": {},
     "output_type": "display_data"
    }
   ],
   "source": [
    "figsize(8, 3)\n",
    "outputs = model(images).cpu()\n",
    "probs = layers.reorder(outputs, \"BDL\", \"BLD\").softmax(2)\n",
    "for i in range(5):\n",
    "    subplot(2, 3,i+1)\n",
    "    gca().set_title(decode_str(helpers.ctc_decode(probs[i])))\n",
    "    xticks([]); yticks([])\n",
    "    imshow(images[i,0,:,:].detach().numpy())"
   ]
  },
  {
   "cell_type": "markdown",
   "metadata": {
    "slideshow": {
     "slide_type": "slide"
    }
   },
   "source": [
    "# Trainers and Error Measurements"
   ]
  },
  {
   "cell_type": "code",
   "execution_count": 32,
   "metadata": {
    "slideshow": {
     "slide_type": "skip"
    }
   },
   "outputs": [],
   "source": [
    "from helpers import method"
   ]
  },
  {
   "cell_type": "code",
   "execution_count": 33,
   "metadata": {
    "slideshow": {
     "slide_type": "slide"
    }
   },
   "outputs": [],
   "source": [
    "class Trainer(object):\n",
    "    def __init__(self, model): pass\n",
    "    def set_lr(self, lr): pass\n",
    "    def train_batch(self, inputs, targets, ilens, tlens): pass\n",
    "    def train(self, loader, epochs): pass\n",
    "    def report_progress(self): pass\n",
    "    def compute_loss(self, outputs, targets): pass\n",
    "    def probs_batch(self, inputs, ilens): pass\n",
    "    def predict_batch(self, inputs, ilens): pass\n",
    "    def errors(self, loader): pass\n",
    "    \n",
    "trainer = Trainer(model)"
   ]
  },
  {
   "cell_type": "markdown",
   "metadata": {},
   "source": [
    "- training logic is commonly wrapped up in objects like these\n",
    "- the details of each method are dependent on the particular application\n",
    "- the structure is generally similar between applications"
   ]
  },
  {
   "cell_type": "code",
   "execution_count": 34,
   "metadata": {
    "slideshow": {
     "slide_type": "skip"
    }
   },
   "outputs": [],
   "source": [
    "class Trainer(object):\n",
    "    pass"
   ]
  },
  {
   "cell_type": "code",
   "execution_count": 35,
   "metadata": {
    "slideshow": {
     "slide_type": "skip"
    }
   },
   "outputs": [
    {
     "data": {
      "text/plain": [
       "device(type='cuda', index=0)"
      ]
     },
     "execution_count": 35,
     "metadata": {},
     "output_type": "execute_result"
    }
   ],
   "source": [
    "def device_of(x):\n",
    "    if isinstance(x, torch.Tensor):\n",
    "        return x.device\n",
    "    elif isinstance(x, nn.Module):\n",
    "        return next(x.parameters()).device\n",
    "    \n",
    "device_of(model)"
   ]
  },
  {
   "cell_type": "code",
   "execution_count": 36,
   "metadata": {
    "slideshow": {
     "slide_type": "slide"
    }
   },
   "outputs": [],
   "source": [
    "@method(Trainer)\n",
    "def __init__(self, model, lr=1e-4):\n",
    "    self.model = model\n",
    "    self.ctc_loss = nn.CTCLoss()\n",
    "    self.losses = []\n",
    "    self.epoch = 0\n",
    "    self.last_lr = -1\n",
    "    self.set_lr(lr)"
   ]
  },
  {
   "cell_type": "markdown",
   "metadata": {},
   "source": [
    "- keep a reference to the model\n",
    "- allocate a loss object\n",
    "- keep track of epoch/losses"
   ]
  },
  {
   "cell_type": "code",
   "execution_count": 37,
   "metadata": {
    "slideshow": {
     "slide_type": "slide"
    }
   },
   "outputs": [],
   "source": [
    "@method(Trainer)\n",
    "def set_lr(self, lr):\n",
    "    if lr==self.last_lr: return\n",
    "    self.optimizer = optim.SGD(self.model.parameters(), lr=lr, momentum=0.9)\n",
    "    self.last_lr = lr"
   ]
  },
  {
   "cell_type": "markdown",
   "metadata": {},
   "source": [
    "- in PyTorch, when we change the learning rate, we allocate a new optimizer"
   ]
  },
  {
   "cell_type": "code",
   "execution_count": 38,
   "metadata": {
    "slideshow": {
     "slide_type": "slide"
    }
   },
   "outputs": [],
   "source": [
    "@method(Trainer)\n",
    "def train_batch(self, inputs, targets, ilens, tlens):\n",
    "    model.train()\n",
    "    self.optimizer.zero_grad()\n",
    "    outputs = self.model.forward(inputs).cpu()\n",
    "    b, d, l = outputs.shape\n",
    "    logprobs = layers.reorder(outputs, \"BDL\", \"LBD\").cpu().log_softmax(2) # LBD\n",
    "    plens = torch.full((b,), l).long()\n",
    "    loss = self.ctc_loss(logprobs, targets, plens, tlens)\n",
    "    self.losses.append(loss.item())\n",
    "    loss.backward()\n",
    "    nn.utils.clip_grad_norm_(model.parameters(), 10.0)\n",
    "    self.optimizer.step()\n",
    "    self.last_batch = ((inputs, ilens), logprobs, (targets, tlens), loss)\n",
    "    return loss.detach().item()"
   ]
  },
  {
   "cell_type": "markdown",
   "metadata": {},
   "source": [
    "- the meat of the training loop\n",
    "- this takes care of the forward/backward passes, loss computation, and weight update\n",
    "- one batch only"
   ]
  },
  {
   "cell_type": "code",
   "execution_count": 39,
   "metadata": {
    "slideshow": {
     "slide_type": "slide"
    }
   },
   "outputs": [],
   "source": [
    "@method(Trainer)\n",
    "def train(self, loader, epochs=1, learning_rates=None):\n",
    "    self.epochs = epochs\n",
    "    for epoch in range(epochs):\n",
    "        self.epoch = epoch\n",
    "        self.set_lr(learning_rates[min(len(learning_rates)-1, self.epoch)])\n",
    "        for images, targets, ilens, tlens in loader:\n",
    "            loss = self.train_batch(images, targets, ilens, tlens)\n",
    "            self.report_progress()\n",
    "    display.clear_output(wait=True)"
   ]
  },
  {
   "cell_type": "markdown",
   "metadata": {},
   "source": [
    "- full trainng just takes a data loader as input\n",
    "- here we set a learning rate schedule by epoch\n",
    "- often, this also involves evalution over a test set; we skip that there"
   ]
  },
  {
   "cell_type": "code",
   "execution_count": 40,
   "metadata": {
    "slideshow": {
     "slide_type": "slide"
    }
   },
   "outputs": [],
   "source": [
    "@method(Trainer)\n",
    "def report_progress(self):\n",
    "    (images, _), logprobs, _, loss = self.last_batch\n",
    "    if not hasattr(self, \"last_report\"): self.last_report = 0\n",
    "    if time.time() - self.last_report < 5.0: return\n",
    "    update_plot(f\"epoch:{self.epoch}/{self.epochs} #batches:{len(self.losses)} bs:{len(images)} lr:{self.last_lr}\",\n",
    "                images, logprobs.detach().exp().numpy(),\n",
    "                self.losses)\n",
    "    self.last_report = time.time()"
   ]
  },
  {
   "cell_type": "markdown",
   "metadata": {},
   "source": [
    "- it's useful to break out progess reporting code, since it tends to get messy\n",
    "- updating by time rather than every n samples leads to more predictable progress tracking\n",
    "- we're taking advantage of Jupyter's real-time updates"
   ]
  },
  {
   "cell_type": "code",
   "execution_count": 41,
   "metadata": {
    "slideshow": {
     "slide_type": "slide"
    }
   },
   "outputs": [],
   "source": [
    "@method(Trainer)\n",
    "def probs_batch(self, inputs, ilens=None):\n",
    "    self.model.eval()\n",
    "    with torch.no_grad():\n",
    "        outputs = self.model.forward(inputs).detach().cpu()\n",
    "    logprobs = layers.reorder(outputs, \"BDL\", \"BLD\").log_softmax(2)\n",
    "    return logprobs.exp()"
   ]
  },
  {
   "cell_type": "markdown",
   "metadata": {},
   "source": [
    "- predict the output probabilities for a batch\n",
    "- note that we switch to eval mode and turn off gradient computations"
   ]
  },
  {
   "cell_type": "code",
   "execution_count": 42,
   "metadata": {
    "slideshow": {
     "slide_type": "slide"
    }
   },
   "outputs": [],
   "source": [
    "@method(Trainer)\n",
    "def predict_batch(self, inputs, ilens=None):\n",
    "    probs = self.probs_batch(inputs)\n",
    "    result = [simple_decode(p) for p in probs]\n",
    "    return result"
   ]
  },
  {
   "cell_type": "markdown",
   "metadata": {},
   "source": [
    "- for prediction, we usually compute the actual class\n",
    "- here, we decode all the output sequences"
   ]
  },
  {
   "cell_type": "code",
   "execution_count": 43,
   "metadata": {
    "slideshow": {
     "slide_type": "slide"
    }
   },
   "outputs": [],
   "source": [
    "import editdistance\n",
    "\n",
    "@method(Trainer)\n",
    "def errors(self, loader):\n",
    "    total = 0\n",
    "    errors = 0\n",
    "    for inputs, targets, ilens, tlens in loader:\n",
    "        predictions = self.predict_batch(inputs)\n",
    "        start = 0\n",
    "        for p, l in zip(predictions, tlens):\n",
    "            t = targets[start:start+l].tolist()\n",
    "            errors += editdistance.distance(p, t)\n",
    "            total += len(t)\n",
    "            start += l\n",
    "    return errors, total"
   ]
  },
  {
   "cell_type": "markdown",
   "metadata": {},
   "source": [
    "- commonly, there is also a method to evaluate the model over a test set"
   ]
  },
  {
   "cell_type": "code",
   "execution_count": 44,
   "metadata": {},
   "outputs": [],
   "source": [
    "def irepeat(dl):\n",
    "    while True:\n",
    "        yield from dl\n",
    "        \n",
    "class ChangeEpoch(object):\n",
    "    def __init__(self, dl, n):\n",
    "        self.source = irepeat(dl)\n",
    "        self.n = n\n",
    "    def __iter__(self):\n",
    "        return islice(self.source, 0, self.n)\n",
    "        "
   ]
  },
  {
   "cell_type": "code",
   "execution_count": 45,
   "metadata": {
    "slideshow": {
     "slide_type": "slide"
    }
   },
   "outputs": [
    {
     "data": {
      "image/png": "[encoded data removed]",
      "text/plain": [
       "<Figure size 864x216 with 3 Axes>"
      ]
     },
     "metadata": {
      "needs_background": "light"
     },
     "output_type": "display_data"
    }
   ],
   "source": [
    "model = make_model()\n",
    "flex.shape_inference(model, images.shape)\n",
    "trainer = Trainer(model)\n",
    "demo_dl = ChangeEpoch(training_dl, 1000) # make it a little shorter for the demo\n",
    "trainer.train(demo_dl, 5, learning_rates=[1e-3]+[1e-4]*3+[1e-5])"
   ]
  },
  {
   "cell_type": "markdown",
   "metadata": {},
   "source": [
    "- once you have defined a trainer for a problem class, experimenting with different architectures becomes simple"
   ]
  },
  {
   "cell_type": "code",
   "execution_count": 46,
   "metadata": {
    "slideshow": {
     "slide_type": "slide"
    }
   },
   "outputs": [
    {
     "data": {
      "text/plain": [
       "[[10, 5, 7, 7, 5], [3, 4, 6, 5, 10], [5, 8, 4], [2, 9, 5, 4], [5, 7, 6, 4]]"
      ]
     },
     "execution_count": 46,
     "metadata": {},
     "output_type": "execute_result"
    }
   ],
   "source": [
    "trainer.predict_batch(images, ilens)"
   ]
  },
  {
   "cell_type": "markdown",
   "metadata": {},
   "source": [
    "- batch prediction"
   ]
  },
  {
   "cell_type": "code",
   "execution_count": 47,
   "metadata": {
    "slideshow": {
     "slide_type": "slide"
    }
   },
   "outputs": [
    {
     "data": {
      "text/plain": [
       "['94664', '23549', '473', '1843', '4653']"
      ]
     },
     "execution_count": 47,
     "metadata": {},
     "output_type": "execute_result"
    }
   ],
   "source": [
    "[decode_str(l) for l in trainer.predict_batch(images, ilens)]"
   ]
  },
  {
   "cell_type": "markdown",
   "metadata": {},
   "source": [
    "- batch prediction and decoding"
   ]
  },
  {
   "cell_type": "code",
   "execution_count": 48,
   "metadata": {
    "slideshow": {
     "slide_type": "slide"
    }
   },
   "outputs": [
    {
     "data": {
      "text/plain": [
       "(9, 40069)"
      ]
     },
     "execution_count": 48,
     "metadata": {},
     "output_type": "execute_result"
    }
   ],
   "source": [
    "testing_dl = DataLoader(testing, batch_size=40, collate_fn=collate4ocr)\n",
    "trainer.errors(testing_dl)"
   ]
  },
  {
   "cell_type": "markdown",
   "metadata": {},
   "source": [
    "- error rate measurement"
   ]
  },
  {
   "cell_type": "markdown",
   "metadata": {
    "slideshow": {
     "slide_type": "slide"
    }
   },
   "source": [
    "# Saving"
   ]
  },
  {
   "cell_type": "code",
   "execution_count": 49,
   "metadata": {
    "slideshow": {
     "slide_type": "slide"
    }
   },
   "outputs": [],
   "source": [
    "torch.save(model, \"temp.pyd\")\n",
    "temp = torch.load(\"temp.pyd\")"
   ]
  },
  {
   "cell_type": "markdown",
   "metadata": {},
   "source": [
    "- you can load/save models directly\n",
    "- this is useful for simple checkpointing\n",
    "- the saved model is very sensitive to source code changes\n",
    "- it tends not to work well as you change your source code"
   ]
  },
  {
   "cell_type": "code",
   "execution_count": 50,
   "metadata": {
    "slideshow": {
     "slide_type": "slide"
    }
   },
   "outputs": [],
   "source": [
    "epoch = trainer.epoch\n",
    "loss = trainer.losses[-1]\n",
    "fname = f\"lstm-ctc-digits__{epoch:04d}__{loss:.2e}.state.pth\"\n",
    "torch.save(model.state_dict(), fname)"
   ]
  },
  {
   "cell_type": "markdown",
   "metadata": {},
   "source": [
    "- it is better to save the _state dictionary_\n",
    "- it's also a good idea to adopt a convention to incorporate epoch/loss into the file name"
   ]
  },
  {
   "cell_type": "code",
   "execution_count": 51,
   "metadata": {
    "slideshow": {
     "slide_type": "slide"
    }
   },
   "outputs": [
    {
     "data": {
      "text/plain": [
       "'lstm-ctc-digits__0004__1.29e-02.state.pth'"
      ]
     },
     "execution_count": 51,
     "metadata": {},
     "output_type": "execute_result"
    }
   ],
   "source": [
    "import glob\n",
    "def load_latest(model, prefix = \"lstm-ctc-digits\"):\n",
    "    fnames = sorted(glob.glob(prefix+\"__*__*.state.pth\"))\n",
    "    if fnames == []: return None\n",
    "    model.load_state_dict(torch.load(fnames[-1]))\n",
    "    return fnames[-1]\n",
    "\n",
    "model = make_model()\n",
    "flex.shape_inference(model, images.shape)\n",
    "load_latest(model)"
   ]
  },
  {
   "cell_type": "markdown",
   "metadata": {},
   "source": [
    "- given good naming conventions, we can get a good idea of how our saved models are doing\n",
    "- we can also load the latest/best model easily"
   ]
  },
  {
   "cell_type": "code",
   "execution_count": null,
   "metadata": {},
   "outputs": [],
   "source": []
  }
 ],
 "metadata": {
  "celltoolbar": "Slideshow",
  "kernelspec": {
   "display_name": "Python 3",
   "language": "python",
   "name": "python3"
  },
  "language_info": {
   "codemirror_mode": {
    "name": "ipython",
    "version": 3
   },
   "file_extension": ".py",
   "mimetype": "text/x-python",
   "name": "python",
   "nbconvert_exporter": "python",
   "pygments_lexer": "ipython3",
   "version": "3.7.3"
  }
 },
 "nbformat": 4,
 "nbformat_minor": 4
}
