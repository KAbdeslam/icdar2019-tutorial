{
 "cells": [
  {
   "cell_type": "code",
   "execution_count": 1,
   "metadata": {},
   "outputs": [
    {
     "name": "stdout",
     "output_type": "stream",
     "text": [
      "Populating the interactive namespace from numpy and matplotlib\n"
     ]
    }
   ],
   "source": [
    "%pylab inline"
   ]
  },
  {
   "cell_type": "code",
   "execution_count": 2,
   "metadata": {},
   "outputs": [
    {
     "name": "stdout",
     "output_type": "stream",
     "text": [
      "============================================================\n",
      "date : Wed Aug 28 09:10:59 PDT 2019\n",
      "hostname : bragi\n",
      "whoami : tmb\n",
      "pwd : /home/tmb/exp/icdar2019dl\n",
      "============================================================\n",
      "\n"
     ]
    }
   ],
   "source": [
    "exec(open(\"startup.py\").read())"
   ]
  },
  {
   "cell_type": "code",
   "execution_count": 3,
   "metadata": {},
   "outputs": [],
   "source": [
    "from webdataset import WebDataset"
   ]
  },
  {
   "cell_type": "markdown",
   "metadata": {},
   "source": [
    "# Class Encoding"
   ]
  },
  {
   "cell_type": "code",
   "execution_count": 4,
   "metadata": {},
   "outputs": [
    {
     "data": {
      "text/plain": [
       "[1, 2, 10]"
      ]
     },
     "execution_count": 4,
     "metadata": {},
     "output_type": "execute_result"
    }
   ],
   "source": [
    "def encode_str(s): return [ord(c)-ord(\"0\")+1 for c in s]\n",
    "def decode_str(l): return \"\".join([chr(k+ord(\"0\")-1) for k in l])\n",
    "\n",
    "encode_str(\"019\")"
   ]
  },
  {
   "cell_type": "markdown",
   "metadata": {},
   "source": [
    "# Datasets"
   ]
  },
  {
   "cell_type": "code",
   "execution_count": 5,
   "metadata": {},
   "outputs": [
    {
     "name": "stdout",
     "output_type": "stream",
     "text": [
      "-r--r--r-- bigdata/bigdata 4941 2019-08-28 03:10 0.ppm\n",
      "-r--r--r-- bigdata/bigdata    3 2019-08-28 03:10 0.txt\n",
      "-r--r--r-- bigdata/bigdata 6286 2019-08-28 03:10 1.ppm\n",
      "-r--r--r-- bigdata/bigdata    4 2019-08-28 03:10 1.txt\n",
      "-r--r--r-- bigdata/bigdata 7630 2019-08-28 03:10 2.ppm\n",
      "tar: write error\n"
     ]
    }
   ],
   "source": [
    "!tar -tvf data/digits-training.tar | sed 5q"
   ]
  },
  {
   "cell_type": "code",
   "execution_count": 6,
   "metadata": {},
   "outputs": [],
   "source": [
    "transforms = [\n",
    "    lambda x: (torch.tensor(x)[:48,:].float()/255.0).unsqueeze(2),\n",
    "    lambda s: torch.tensor(encode_str(s)).long()\n",
    "]\n",
    "\n",
    "training = WebDataset(\"data/digits-training.tar\", extensions=\"ppm txt\",\n",
    "                           decoder=\"l\", transforms=transforms)\n",
    "testing = WebDataset(\"data/digits-testing.tar\", extensions=\"ppm txt\",\n",
    "                          decoder=\"l\", transforms=transforms)\n"
   ]
  },
  {
   "cell_type": "markdown",
   "metadata": {},
   "source": [
    "# Collation and Data Loaders"
   ]
  },
  {
   "cell_type": "code",
   "execution_count": 7,
   "metadata": {},
   "outputs": [
    {
     "name": "stdout",
     "output_type": "stream",
     "text": [
      "torch.Size([5, 48, 136, 1]) torch.Size([20]) torch.Size([5]) torch.Size([5])\n",
      "tensor(0.) tensor(0.0039) tensor(1) tensor(10)\n"
     ]
    },
    {
     "data": {
      "text/plain": [
       "<matplotlib.image.AxesImage at 0x7f6cde2149b0>"
      ]
     },
     "execution_count": 7,
     "metadata": {},
     "output_type": "execute_result"
    },
    {
     "data": {
      "image/png": "[encoded data removed]",
      "text/plain": [
       "<Figure size 432x288 with 1 Axes>"
      ]
     },
     "metadata": {
      "needs_background": "light"
     },
     "output_type": "display_data"
    }
   ],
   "source": [
    "def collate4ocr(samples):\n",
    "    images, seqs = zip(*samples)\n",
    "    w, h, d = map(max, zip(*[x.shape for x in images]))\n",
    "    result = torch.zeros((len(images), w, h, d))\n",
    "    for i, im in enumerate(images):\n",
    "        w, h, d = im.shape\n",
    "        result[i, :w, :h, :d] = im\n",
    "    allwidths = torch.tensor([im.shape[1] for im in images]).long()\n",
    "    allseqs = torch.cat(seqs).long()\n",
    "    alllens = torch.tensor([len(s) for s in seqs]).long()\n",
    "    return (result, allseqs, allwidths, alllens)\n",
    "\n",
    "training_dl = DataLoader(training, batch_size=5, collate_fn=collate4ocr)\n",
    "\n",
    "for images, seqs, images_lens, seqs_lens in training_dl:\n",
    "    print(images.shape, seqs.shape, images_lens.shape, seqs_lens.shape)\n",
    "    print(images.min(), images.max(), seqs.min(), seqs.max())\n",
    "    break\n",
    "    \n",
    "imshow(images[0,:,:,0])"
   ]
  },
  {
   "cell_type": "markdown",
   "metadata": {},
   "source": [
    "# Model and Size Inference"
   ]
  },
  {
   "cell_type": "code",
   "execution_count": 8,
   "metadata": {},
   "outputs": [
    {
     "data": {
      "text/plain": [
       "Sequential(\n",
       "  (0): Input(BHWD->BDHW torch.float32 (0, 1) cpu [None, 1, 48, None])\n",
       "  (1): Conv2d(1, 100, kernel_size=(3, 3), stride=(1, 1), padding=(1, 1))\n",
       "  (2): ReLU()\n",
       "  (3): Reshape(0, [1, 2], 3)\n",
       "  (4): BDL_LSTM(\n",
       "    (lstm): LSTM(4800, 100, bidirectional=True)\n",
       "  )\n",
       "  (5): Conv1d(200, 11, kernel_size=(1,), stride=(1,))\n",
       "  (6): Reorder(\"BDL\", \"BLD\")\n",
       ")"
      ]
     },
     "execution_count": 8,
     "metadata": {},
     "output_type": "execute_result"
    }
   ],
   "source": [
    "ninput = 48\n",
    "noutput = 11\n",
    "\n",
    "def make_model():\n",
    "    return nn.Sequential(\n",
    "        layers.Input(\"BHWD\", \"BDHW\", range=(0, 1), sizes=[None, 1, 48, None]),\n",
    "        flex.Conv2d(100, 3, padding=(1, 1)),  # BDWH\n",
    "        nn.ReLU(),\n",
    "        layers.Reshape(0, [1, 2], 3), # BDL\n",
    "        flex.Lstm1(100, bidirectional=True), # BDL\n",
    "        flex.Conv1d(noutput, 1),\n",
    "        layers.Reorder(\"BDL\", \"BLD\"))\n",
    "\n",
    "model = make_model()\n",
    "flex.shape_inference(model, images.shape)\n",
    "model"
   ]
  },
  {
   "cell_type": "markdown",
   "metadata": {},
   "source": [
    "# Training"
   ]
  },
  {
   "cell_type": "code",
   "execution_count": 9,
   "metadata": {},
   "outputs": [],
   "source": [
    "model.to(\"cuda:1\")\n",
    "optimizer = optim.SGD(model.parameters(), lr=1e-4, momentum=0.9)\n",
    "ctc_loss = nn.CTCLoss()"
   ]
  },
  {
   "cell_type": "code",
   "execution_count": 10,
   "metadata": {},
   "outputs": [],
   "source": [
    "images, targets, ilens, tlens = next(iter(training_dl))"
   ]
  },
  {
   "cell_type": "code",
   "execution_count": 11,
   "metadata": {},
   "outputs": [],
   "source": [
    "optimizer.zero_grad()"
   ]
  },
  {
   "cell_type": "code",
   "execution_count": 12,
   "metadata": {},
   "outputs": [
    {
     "data": {
      "text/plain": [
       "<matplotlib.image.AxesImage at 0x7f6cde084860>"
      ]
     },
     "execution_count": 12,
     "metadata": {},
     "output_type": "execute_result"
    },
    {
     "data": {
      "image/png": "[encoded data removed]",
      "text/plain": [
       "<Figure size 432x288 with 1 Axes>"
      ]
     },
     "metadata": {
      "needs_background": "light"
     },
     "output_type": "display_data"
    }
   ],
   "source": [
    "outputs = model.forward(images)\n",
    "imshow(outputs[0].detach().cpu().numpy().T)"
   ]
  },
  {
   "cell_type": "code",
   "execution_count": 13,
   "metadata": {},
   "outputs": [
    {
     "data": {
      "text/plain": [
       "<matplotlib.image.AxesImage at 0x7f6cdbb6b080>"
      ]
     },
     "execution_count": 13,
     "metadata": {},
     "output_type": "execute_result"
    },
    {
     "data": {
      "image/png": "[encoded data removed]",
      "text/plain": [
       "<Figure size 432x288 with 1 Axes>"
      ]
     },
     "metadata": {
      "needs_background": "light"
     },
     "output_type": "display_data"
    }
   ],
   "source": [
    "outputs = outputs.permute(1, 0, 2).cpu() # BLD -> LBD\n",
    "l, b, d = outputs.shape\n",
    "probs = outputs.log_softmax(2)\n",
    "imshow(exp(probs[:,0,:].detach().cpu().numpy().T))"
   ]
  },
  {
   "cell_type": "code",
   "execution_count": 14,
   "metadata": {},
   "outputs": [
    {
     "name": "stdout",
     "output_type": "stream",
     "text": [
      "tensor(73.7731, grad_fn=<MeanBackward0>)\n"
     ]
    }
   ],
   "source": [
    "plens = torch.full((b,), l).long()\n",
    "loss = ctc_loss(probs, targets, plens, tlens)\n",
    "print(loss)"
   ]
  },
  {
   "cell_type": "code",
   "execution_count": 15,
   "metadata": {},
   "outputs": [],
   "source": [
    "loss.backward()\n",
    "nn.utils.clip_grad_norm_(model.parameters(), 10.0)\n",
    "optimizer.step()"
   ]
  },
  {
   "cell_type": "markdown",
   "metadata": {},
   "source": [
    "# Full Training Loops"
   ]
  },
  {
   "cell_type": "code",
   "execution_count": 16,
   "metadata": {},
   "outputs": [
    {
     "name": "stderr",
     "output_type": "stream",
     "text": [
      "epoch  0   #samples     1100   loss    2.750\r"
     ]
    },
    {
     "ename": "KeyboardInterrupt",
     "evalue": "",
     "output_type": "error",
     "traceback": [
      "\u001b[0;31m---------------------------------------------------------------------------\u001b[0m",
      "\u001b[0;31mKeyboardInterrupt\u001b[0m                         Traceback (most recent call last)",
      "\u001b[0;32m<ipython-input-16-ae1304f96ea3>\u001b[0m in \u001b[0;36m<module>\u001b[0;34m\u001b[0m\n\u001b[1;32m     10\u001b[0m         \u001b[0mloss\u001b[0m \u001b[0;34m=\u001b[0m \u001b[0mctc_loss\u001b[0m\u001b[0;34m(\u001b[0m\u001b[0mprobs\u001b[0m\u001b[0;34m,\u001b[0m \u001b[0mtargets\u001b[0m\u001b[0;34m,\u001b[0m \u001b[0mplens\u001b[0m\u001b[0;34m,\u001b[0m \u001b[0mtlens\u001b[0m\u001b[0;34m)\u001b[0m\u001b[0;34m\u001b[0m\u001b[0;34m\u001b[0m\u001b[0m\n\u001b[1;32m     11\u001b[0m         \u001b[0mlosses\u001b[0m\u001b[0;34m.\u001b[0m\u001b[0mappend\u001b[0m\u001b[0;34m(\u001b[0m\u001b[0mloss\u001b[0m\u001b[0;34m.\u001b[0m\u001b[0mitem\u001b[0m\u001b[0;34m(\u001b[0m\u001b[0;34m)\u001b[0m\u001b[0;34m)\u001b[0m\u001b[0;34m\u001b[0m\u001b[0;34m\u001b[0m\u001b[0m\n\u001b[0;32m---> 12\u001b[0;31m         \u001b[0mloss\u001b[0m\u001b[0;34m.\u001b[0m\u001b[0mbackward\u001b[0m\u001b[0;34m(\u001b[0m\u001b[0;34m)\u001b[0m\u001b[0;34m\u001b[0m\u001b[0;34m\u001b[0m\u001b[0m\n\u001b[0m\u001b[1;32m     13\u001b[0m         \u001b[0mnn\u001b[0m\u001b[0;34m.\u001b[0m\u001b[0mutils\u001b[0m\u001b[0;34m.\u001b[0m\u001b[0mclip_grad_norm_\u001b[0m\u001b[0;34m(\u001b[0m\u001b[0mmodel\u001b[0m\u001b[0;34m.\u001b[0m\u001b[0mparameters\u001b[0m\u001b[0;34m(\u001b[0m\u001b[0;34m)\u001b[0m\u001b[0;34m,\u001b[0m \u001b[0;36m10.0\u001b[0m\u001b[0;34m)\u001b[0m\u001b[0;34m\u001b[0m\u001b[0;34m\u001b[0m\u001b[0m\n\u001b[1;32m     14\u001b[0m         \u001b[0moptimizer\u001b[0m\u001b[0;34m.\u001b[0m\u001b[0mstep\u001b[0m\u001b[0;34m(\u001b[0m\u001b[0;34m)\u001b[0m\u001b[0;34m\u001b[0m\u001b[0;34m\u001b[0m\u001b[0m\n",
      "\u001b[0;32m/usr/local/lib/python3.6/dist-packages/torch/tensor.py\u001b[0m in \u001b[0;36mbackward\u001b[0;34m(self, gradient, retain_graph, create_graph)\u001b[0m\n\u001b[1;32m    116\u001b[0m                 \u001b[0mproducts\u001b[0m\u001b[0;34m.\u001b[0m \u001b[0mDefaults\u001b[0m \u001b[0mto\u001b[0m\u001b[0;31m \u001b[0m\u001b[0;31m`\u001b[0m\u001b[0;31m`\u001b[0m\u001b[0;32mFalse\u001b[0m\u001b[0;31m`\u001b[0m\u001b[0;31m`\u001b[0m\u001b[0;34m.\u001b[0m\u001b[0;34m\u001b[0m\u001b[0;34m\u001b[0m\u001b[0m\n\u001b[1;32m    117\u001b[0m         \"\"\"\n\u001b[0;32m--> 118\u001b[0;31m         \u001b[0mtorch\u001b[0m\u001b[0;34m.\u001b[0m\u001b[0mautograd\u001b[0m\u001b[0;34m.\u001b[0m\u001b[0mbackward\u001b[0m\u001b[0;34m(\u001b[0m\u001b[0mself\u001b[0m\u001b[0;34m,\u001b[0m \u001b[0mgradient\u001b[0m\u001b[0;34m,\u001b[0m \u001b[0mretain_graph\u001b[0m\u001b[0;34m,\u001b[0m \u001b[0mcreate_graph\u001b[0m\u001b[0;34m)\u001b[0m\u001b[0;34m\u001b[0m\u001b[0;34m\u001b[0m\u001b[0m\n\u001b[0m\u001b[1;32m    119\u001b[0m \u001b[0;34m\u001b[0m\u001b[0m\n\u001b[1;32m    120\u001b[0m     \u001b[0;32mdef\u001b[0m \u001b[0mregister_hook\u001b[0m\u001b[0;34m(\u001b[0m\u001b[0mself\u001b[0m\u001b[0;34m,\u001b[0m \u001b[0mhook\u001b[0m\u001b[0;34m)\u001b[0m\u001b[0;34m:\u001b[0m\u001b[0;34m\u001b[0m\u001b[0;34m\u001b[0m\u001b[0m\n",
      "\u001b[0;32m/usr/local/lib/python3.6/dist-packages/torch/autograd/__init__.py\u001b[0m in \u001b[0;36mbackward\u001b[0;34m(tensors, grad_tensors, retain_graph, create_graph, grad_variables)\u001b[0m\n\u001b[1;32m     91\u001b[0m     Variable._execution_engine.run_backward(\n\u001b[1;32m     92\u001b[0m         \u001b[0mtensors\u001b[0m\u001b[0;34m,\u001b[0m \u001b[0mgrad_tensors\u001b[0m\u001b[0;34m,\u001b[0m \u001b[0mretain_graph\u001b[0m\u001b[0;34m,\u001b[0m \u001b[0mcreate_graph\u001b[0m\u001b[0;34m,\u001b[0m\u001b[0;34m\u001b[0m\u001b[0;34m\u001b[0m\u001b[0m\n\u001b[0;32m---> 93\u001b[0;31m         allow_unreachable=True)  # allow_unreachable flag\n\u001b[0m\u001b[1;32m     94\u001b[0m \u001b[0;34m\u001b[0m\u001b[0m\n\u001b[1;32m     95\u001b[0m \u001b[0;34m\u001b[0m\u001b[0m\n",
      "\u001b[0;31mKeyboardInterrupt\u001b[0m: "
     ]
    }
   ],
   "source": [
    "losses = []\n",
    "for epoch in range(3):\n",
    "    i = 0\n",
    "    for images, targets, ilens, tlens in training_dl:\n",
    "        optimizer.zero_grad()\n",
    "        outputs = model.forward(images.cuda())\n",
    "        b, l, d = outputs.shape\n",
    "        probs = outputs.permute(1, 0, 2).cpu().log_softmax(2) # LBD\n",
    "        plens = torch.full((b,), l).long()\n",
    "        loss = ctc_loss(probs, targets, plens, tlens)\n",
    "        losses.append(loss.item())\n",
    "        loss.backward()\n",
    "        nn.utils.clip_grad_norm_(model.parameters(), 10.0)\n",
    "        optimizer.step()\n",
    "        if len(losses)%10==0: \n",
    "            print(\"epoch {:2d}   #samples {:8d}   loss {:8.3f}\".format(\n",
    "                epoch, len(losses)*images.size(0), mean(losses[-100:])),\n",
    "                  end=\"\\r\", flush=True, file=sys.stderr)"
   ]
  },
  {
   "cell_type": "code",
   "execution_count": null,
   "metadata": {},
   "outputs": [],
   "source": [
    "import scipy.ndimage as ndi\n",
    "figsize(6, 6)\n",
    "xscale('log'); yscale('log')\n",
    "plot(ndi.gaussian_filter(losses, 20.0)[::20])"
   ]
  },
  {
   "cell_type": "markdown",
   "metadata": {},
   "source": [
    "# Trained Model"
   ]
  },
  {
   "cell_type": "code",
   "execution_count": null,
   "metadata": {},
   "outputs": [],
   "source": [
    "figsize(10, 10)\n",
    "for i in range(5):\n",
    "    subplot(5, 2, 2*i+1); imshow(images[i,:,:,0].detach().numpy())\n",
    "    subplot(5, 2, 2*i+2); imshow(outputs.softmax(2)[i].detach().cpu().numpy().T)"
   ]
  },
  {
   "cell_type": "markdown",
   "metadata": {},
   "source": [
    "# Output Decoding"
   ]
  },
  {
   "cell_type": "code",
   "execution_count": null,
   "metadata": {},
   "outputs": [],
   "source": [
    "probs = outputs[0].softmax(1).detach().cpu().numpy()\n",
    "assert (abs(probs.sum(1)-1) < 1e-4).all()\n",
    "imshow(probs.T)"
   ]
  },
  {
   "cell_type": "code",
   "execution_count": null,
   "metadata": {},
   "outputs": [],
   "source": [
    "probs = ndi.gaussian_filter(probs, (1.0, 0))\n",
    "probs /= probs.sum(1)[:,newaxis]\n",
    "imshow(probs.T)"
   ]
  },
  {
   "cell_type": "code",
   "execution_count": null,
   "metadata": {},
   "outputs": [],
   "source": [
    "labels, n = ndi.label(probs[:,0]<0.7)\n",
    "mask = tile(labels[:,newaxis], (1, probs.shape[1]))\n",
    "imshow(mask.T)"
   ]
  },
  {
   "cell_type": "code",
   "execution_count": null,
   "metadata": {},
   "outputs": [],
   "source": [
    "ndi.maximum_position(probs, mask, arange(1, amax(mask)+1))"
   ]
  },
  {
   "cell_type": "code",
   "execution_count": null,
   "metadata": {},
   "outputs": [],
   "source": [
    "import helpers; reload(helpers)\n",
    "helpers.ctc_decode(outputs[0].softmax(1), full=True)"
   ]
  },
  {
   "cell_type": "code",
   "execution_count": null,
   "metadata": {},
   "outputs": [],
   "source": [
    "decode_str(helpers.ctc_decode(outputs[0].softmax(1)))"
   ]
  },
  {
   "cell_type": "markdown",
   "metadata": {},
   "source": [
    "# End-to-End Recognition"
   ]
  },
  {
   "cell_type": "code",
   "execution_count": null,
   "metadata": {},
   "outputs": [],
   "source": [
    "figsize(10, 10)\n",
    "outputs = model(images.cuda())\n",
    "for i in range(5):\n",
    "    subplot(3, 2,i+1)\n",
    "    gca().set_title(decode_str(helpers.ctc_decode(outputs[i].softmax(1))))\n",
    "    xticks([]); yticks([])\n",
    "    imshow(images[i,:,:,0].detach().numpy())"
   ]
  },
  {
   "cell_type": "markdown",
   "metadata": {},
   "source": [
    "# Trainers and Error Measurements"
   ]
  },
  {
   "cell_type": "code",
   "execution_count": null,
   "metadata": {},
   "outputs": [],
   "source": [
    "from helpers import method"
   ]
  },
  {
   "cell_type": "code",
   "execution_count": null,
   "metadata": {},
   "outputs": [],
   "source": [
    "class Trainer(object):\n",
    "    def __init__(self, model, shape, lr): pass\n",
    "    def train_batch(self, inputs, targets, ilens, tlens): pass\n",
    "    def train(self, loader, epochs): pass\n",
    "    def probs_batch(self, inputs, ilens): pass\n",
    "    def predict_batch(self, inputs, ilens): pass\n",
    "    def errors(self, loader): pass"
   ]
  },
  {
   "cell_type": "code",
   "execution_count": null,
   "metadata": {},
   "outputs": [],
   "source": [
    "class Trainer(object):\n",
    "    pass"
   ]
  },
  {
   "cell_type": "code",
   "execution_count": null,
   "metadata": {},
   "outputs": [],
   "source": [
    "@method(Trainer)\n",
    "def __init__(self, model, lr=1e-4):\n",
    "    self.model = model\n",
    "    self.model.cuda()\n",
    "    self.optimizer = optim.SGD(model.parameters(), lr=lr, momentum=0.9)\n",
    "    self.ctc_loss = nn.CTCLoss()"
   ]
  },
  {
   "cell_type": "code",
   "execution_count": null,
   "metadata": {},
   "outputs": [],
   "source": [
    "@method(Trainer)\n",
    "def train_batch(self, inputs, targets, ilens, tlens):\n",
    "    self.optimizer.zero_grad()\n",
    "    b_inputs, h, w, channels = inputs.shape\n",
    "    outputs = self.model.forward(inputs.cuda())\n",
    "    b, l, nclasses = outputs.shape\n",
    "    assert b_inputs == b\n",
    "    logprobs = outputs.permute(1, 0, 2).cpu().log_softmax(2)\n",
    "    lplens = torch.full((b,), l).long()\n",
    "    loss = self.ctc_loss(logprobs, targets, lplens, tlens)\n",
    "    nn.utils.clip_grad_norm_(self.model.parameters(), 10.0)\n",
    "    loss.backward()\n",
    "    self.optimizer.step()\n",
    "    return loss.detach().item()"
   ]
  },
  {
   "cell_type": "code",
   "execution_count": null,
   "metadata": {},
   "outputs": [],
   "source": [
    "@method(Trainer)\n",
    "def train(self, loader, epochs=1, total=None):\n",
    "    for epoch in range(epochs):\n",
    "        count = 0\n",
    "        losses = []\n",
    "        for images, targets, ilens, tlens in loader:\n",
    "            if count%10==0:\n",
    "                avgloss = mean(losses[-100:]) if len(losses)>0 else 0.0\n",
    "                print(f\"{epoch:3d} {count:9d} {avgloss:10.4f}\", \" \"*10, file=sys.stderr, end=\"\\r\", flush=True)\n",
    "            loss = self.train_batch(images, targets, ilens, tlens)\n",
    "            losses.append(loss)\n",
    "            count += 1\n",
    "        print(\"\", file=sys.stderr)"
   ]
  },
  {
   "cell_type": "code",
   "execution_count": null,
   "metadata": {},
   "outputs": [],
   "source": [
    "@method(Trainer)\n",
    "def probs_batch(self, inputs, ilens=None):\n",
    "    with torch.no_grad():\n",
    "        outputs = outputs = model.forward(inputs.cuda())\n",
    "    return outputs.detach().cpu().softmax(2)"
   ]
  },
  {
   "cell_type": "code",
   "execution_count": null,
   "metadata": {},
   "outputs": [],
   "source": [
    "@method(Trainer)\n",
    "def predict_batch(self, inputs, ilens=None):\n",
    "    probs = self.probs_batch(inputs)\n",
    "    result = [ctc_decode(p) for p in probs]\n",
    "    return result"
   ]
  },
  {
   "cell_type": "code",
   "execution_count": null,
   "metadata": {},
   "outputs": [],
   "source": [
    "import editdistance\n",
    "\n",
    "@method(Trainer)\n",
    "def errors(self, loader):\n",
    "    total = 0\n",
    "    errors = 0\n",
    "    for inputs, targets, ilens, tlens in loader:\n",
    "        predictions = self.predict_batch(inputs)\n",
    "        start = 0\n",
    "        for p, l in zip(predictions, tlens):\n",
    "            t = targets[start:start+l].tolist()\n",
    "            errors += editdistance.distance(p, t)\n",
    "            total += len(t)\n",
    "            start += l\n",
    "    return errors, total"
   ]
  },
  {
   "cell_type": "code",
   "execution_count": null,
   "metadata": {},
   "outputs": [],
   "source": [
    "model = make_model()\n",
    "flex.shape_inference(model, images.shape)\n",
    "trainer = Trainer(model)\n",
    "trainer.train(training_dl, 3, 50000)"
   ]
  },
  {
   "cell_type": "code",
   "execution_count": null,
   "metadata": {},
   "outputs": [],
   "source": [
    "trainer.predict_batch(images, ilens)"
   ]
  },
  {
   "cell_type": "code",
   "execution_count": null,
   "metadata": {},
   "outputs": [],
   "source": [
    "[decode_str(l) for l in trainer.predict_batch(images, ilens)]"
   ]
  },
  {
   "cell_type": "code",
   "execution_count": null,
   "metadata": {},
   "outputs": [],
   "source": [
    "testing_dl = DataLoader(testing, batch_size=40, collate_fn=collate4ocr)\n",
    "trainer.errors(testing_dl)"
   ]
  },
  {
   "cell_type": "markdown",
   "metadata": {},
   "source": [
    "# Saving"
   ]
  },
  {
   "cell_type": "code",
   "execution_count": null,
   "metadata": {},
   "outputs": [],
   "source": [
    "torch.save(model.state_dict(), \"models/lstm-ctc-digits.state.pth\")"
   ]
  }
 ],
 "metadata": {
  "jupytext": {
   "formats": "ipynb"
  },
  "kernelspec": {
   "display_name": "Python 3",
   "language": "python",
   "name": "python3"
  },
  "language_info": {
   "codemirror_mode": {
    "name": "ipython",
    "version": 3
   },
   "file_extension": ".py",
   "mimetype": "text/x-python",
   "name": "python",
   "nbconvert_exporter": "python",
   "pygments_lexer": "ipython3",
   "version": "3.7.3"
  }
 },
 "nbformat": 4,
 "nbformat_minor": 4
}
